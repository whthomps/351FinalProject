{
 "cells": [
  {
   "cell_type": "code",
   "execution_count": 14,
   "metadata": {},
   "outputs": [],
   "source": [
    "pw='hellowilliam'"
   ]
  },
  {
   "cell_type": "code",
   "execution_count": 2,
   "metadata": {},
   "outputs": [],
   "source": [
    "import mysql.connector\n",
    "import ipywidgets as widgets\n",
    "from ipywidgets import interact\n",
    "from IPython.display import clear_output\n",
    "import pandas as pd\n",
    "import seaborn as sns"
   ]
  },
  {
   "cell_type": "markdown",
   "metadata": {},
   "source": [
    "# Search For Movies"
   ]
  },
  {
   "cell_type": "code",
   "execution_count": 3,
   "metadata": {},
   "outputs": [
    {
     "data": {
      "application/vnd.jupyter.widget-view+json": {
       "model_id": "c2e957b739fb4288b413606977bfa3bd",
       "version_major": 2,
       "version_minor": 0
      },
      "text/plain": [
       "Text(value='', placeholder='Browse By Title...')"
      ]
     },
     "metadata": {},
     "output_type": "display_data"
    }
   ],
   "source": [
    "titleInput = widgets.Text(\n",
    "    value = '',\n",
    "    placeholder='Browse By Title...',\n",
    "    description='',\n",
    "    disabled=False\n",
    ")\n",
    "display(titleInput)\n",
    "\n",
    "def browseByTitle(titleInput):\n",
    "    clear_output(wait=True)\n",
    "    cnx = mysql.connector.connect(user='root', password=pw, host='127.0.0.1', database='project351')\n",
    "    cursor = cnx.cursor()\n",
    "    query = \"SELECT * FROM NetflixOriginals_SQL WHERE title LIKE '%\" + str(titleInput.value) + \"%' ;\"\n",
    "    cursor.execute(query)\n",
    "    i=1\n",
    "    for name in cursor:\n",
    "        print(\"Result \"+ str(i)+ \": \" + name[1] + \", a \" + name[2] + \" that was released on \" + name[3] + \". Offered in \" + name[6] + \", this \" + str(name[4]) + \" minute movie recieved an IMDB rating of \" + str(name[5]) + \".\\n\\n\")\n",
    "        i+=1\n",
    "    cursor.close()\n",
    "    cnx.close()\n",
    "\n",
    "titleInput.on_submit(browseByTitle)"
   ]
  },
  {
   "cell_type": "code",
   "execution_count": 4,
   "metadata": {},
   "outputs": [
    {
     "data": {
      "application/vnd.jupyter.widget-view+json": {
       "model_id": "05066e77a5094aa393bd0b5b5f8314ca",
       "version_major": 2,
       "version_minor": 0
      },
      "text/plain": [
       "FloatSlider(value=7.5, continuous_update=False, description='Greater Than Rating:', max=10.0, readout_format='…"
      ]
     },
     "metadata": {},
     "output_type": "display_data"
    },
    {
     "data": {
      "application/vnd.jupyter.widget-view+json": {
       "model_id": "a42f4086fcb3404d8f64e946e7184c48",
       "version_major": 2,
       "version_minor": 0
      },
      "text/plain": [
       "Button(description='Search', icon='check', style=ButtonStyle(), tooltip='Click me')"
      ]
     },
     "metadata": {},
     "output_type": "display_data"
    }
   ],
   "source": [
    "ratingInput = widgets.FloatSlider(\n",
    "    value=7.5,\n",
    "    min=0,\n",
    "    max=10.0,\n",
    "    step=0.1,\n",
    "    description='Greater Than Rating:',\n",
    "    style={'description_width': 'initial'},\n",
    "    disabled=False,\n",
    "    continuous_update=False,\n",
    "    orientation='horizontal',\n",
    "    readout=True,\n",
    "    readout_format='.1f',\n",
    ")\n",
    "display(ratingInput)\n",
    "\n",
    "button = widgets.Button(\n",
    "    description='Search',\n",
    "    disabled=False,\n",
    "    button_style='', # 'success', 'info', 'warning', 'danger' or ''\n",
    "    tooltip='Click me',\n",
    "    icon='check'\n",
    ")\n",
    "display(button)\n",
    "\n",
    "def browseByRating(b):\n",
    "    cnx = mysql.connector.connect(user='root', password=pw, host='127.0.0.1', database='project351')\n",
    "    cursor = cnx.cursor()\n",
    "    #query = \"SELECT * FROM NetflixOriginals_SQL WHERE IMDB_Score >= 5;\"\n",
    "    query = \"SELECT * FROM NetflixOriginals_SQL WHERE IMDB_Score >=\" + str(ratingInput.value) + \";\"\n",
    "    cursor.execute(query)\n",
    "    i=1\n",
    "    for name in cursor:\n",
    "        print(\"Result \"+ str(i)+ \": \" + name[1] + \", a \" + name[2] + \" that was released on \" + name[3] + \". Offered in \" + name[6] + \", this \" + str(name[4]) + \" minute movie recieved an IMDB rating of \" + str(name[5]) + \".\\n\\n\")\n",
    "        i+=1\n",
    "    cursor.close()\n",
    "    cnx.close()\n",
    "    #name[0] = id, name[1] = title, name[2] = Genre, name[3] = release date, name[4] = runtime, name[5] = IMDB score\n",
    "    #name[6] = language\n",
    "\n",
    "\n",
    "    \n",
    "button.on_click(browseByRating)\n"
   ]
  },
  {
   "cell_type": "code",
   "execution_count": 5,
   "metadata": {},
   "outputs": [
    {
     "data": {
      "application/vnd.jupyter.widget-view+json": {
       "model_id": "344b2a7b653f46da9fe1843cedceb063",
       "version_major": 2,
       "version_minor": 0
      },
      "text/plain": [
       "RadioButtons(options=(('Before', 0), ('After', 1)), value=0)"
      ]
     },
     "metadata": {},
     "output_type": "display_data"
    },
    {
     "data": {
      "application/vnd.jupyter.widget-view+json": {
       "model_id": "14fa8c0da43140c394a1132619f0387f",
       "version_major": 2,
       "version_minor": 0
      },
      "text/plain": [
       "DatePicker(value=None, description='Pick a Date')"
      ]
     },
     "metadata": {},
     "output_type": "display_data"
    },
    {
     "data": {
      "application/vnd.jupyter.widget-view+json": {
       "model_id": "c438a0f947df4f4fbe415c6959eda9f3",
       "version_major": 2,
       "version_minor": 0
      },
      "text/plain": [
       "Button(description='Search', icon='check', style=ButtonStyle(), tooltip='Click me')"
      ]
     },
     "metadata": {},
     "output_type": "display_data"
    }
   ],
   "source": [
    "beforeAfter = widgets.RadioButtons(\n",
    "    options=[('Before', 0), ('After', 1)],\n",
    "#    value='pineapple', # Defaults to 'pineapple'\n",
    "#    layout={'width': 'max-content'}, # If the items' names are long\n",
    "    description='',\n",
    "    disabled=False\n",
    ")\n",
    "display(beforeAfter)\n",
    "\n",
    "date = widgets.DatePicker(\n",
    "    description='Pick a Date',\n",
    "    disabled=False\n",
    ")\n",
    "display(date)\n",
    "\n",
    "button = widgets.Button(\n",
    "    description='Search',\n",
    "    disabled=False,\n",
    "    button_style='', # 'success', 'info', 'warning', 'danger' or ''\n",
    "    tooltip='Click me',\n",
    "    icon='check'\n",
    ")\n",
    "display(button)\n",
    "\n",
    "def browseByDate(b):\n",
    "    if beforeAfter.value == 0:\n",
    "        cnx = mysql.connector.connect(user='root', password=pw, host='127.0.0.1', database='project351')\n",
    "        cursor = cnx.cursor()\n",
    "        query = \"SELECT * FROM Netflix WHERE Date <='\" + str(date.value) + \"';\"\n",
    "        cursor.execute(query)\n",
    "        i=1\n",
    "        for name in cursor:\n",
    "            print(\"Result \"+ str(i)+ \": \" + name[1] + \", a \" + name[2] + \" that was released on \" + name[3] + \". Offered in \" + name[6] + \", this \" + str(name[4]) + \" minute movie recieved an IMDB rating of \" + str(name[5]) + \".\\n\\n\")\n",
    "            i+=1\n",
    "        cursor.close()\n",
    "        cnx.close()\n",
    "    if beforeAfter.value == 1:\n",
    "        cnx = mysql.connector.connect(user='root', password=pw, host='127.0.0.1', database='project351')\n",
    "        cursor = cnx.cursor()\n",
    "        query = \"SELECT * FROM Netflix WHERE Date >= '\" + str(date.value) + \"';\"\n",
    "        cursor.execute(query)\n",
    "        i=1\n",
    "        for name in cursor:\n",
    "            print(\"Result \"+ str(i)+ \": \" + name[1] + \", a \" + name[2] + \" that was released on \" + name[3] + \". Offered in \" + name[6] + \", this \" + str(name[4]) + \" minute movie recieved an IMDB rating of \" + str(name[5]) + \".\\n\\n\")\n",
    "            i+=1\n",
    "        cursor.close()\n",
    "        cnx.close()\n",
    "\n",
    "button.on_click(browseByDate)"
   ]
  },
  {
   "cell_type": "code",
   "execution_count": 6,
   "metadata": {},
   "outputs": [
    {
     "data": {
      "application/vnd.jupyter.widget-view+json": {
       "model_id": "1a41e9d91e8e4b2988ae328d43ba7fe0",
       "version_major": 2,
       "version_minor": 0
      },
      "text/plain": [
       "IntSlider(value=7, continuous_update=False, description='Within How Many Minutes:', layout=Layout(width='50%')…"
      ]
     },
     "metadata": {},
     "output_type": "display_data"
    },
    {
     "data": {
      "application/vnd.jupyter.widget-view+json": {
       "model_id": "5b2a361442f842f3beceae1107d515f5",
       "version_major": 2,
       "version_minor": 0
      },
      "text/plain": [
       "Text(value='', placeholder='Enter Runtime (Minutes)...')"
      ]
     },
     "metadata": {},
     "output_type": "display_data"
    }
   ],
   "source": [
    "minuteRange = widgets.IntSlider(\n",
    "    value=7,\n",
    "    min=1,\n",
    "    max=30,\n",
    "    step=1,\n",
    "    description='Within How Many Minutes:',\n",
    "    style={'description_width': 'initial'},\n",
    "    layout=widgets.Layout(width='50%'),\n",
    "    disabled=False,\n",
    "    continuous_update=False,\n",
    "    orientation='horizontal',\n",
    "    readout=True,\n",
    "    readout_format='d'\n",
    ")\n",
    "display(minuteRange)\n",
    "\n",
    "\n",
    "runTimeInput = widgets.Text(\n",
    "    value = '',\n",
    "    placeholder='Enter Runtime (Minutes)...',\n",
    "    description='',\n",
    "    disabled=False\n",
    ")\n",
    "display(runTimeInput)\n",
    "\n",
    "def browseByRuntime(b):\n",
    "    minimum = int(runTimeInput.value) - minuteRange.value\n",
    "    maximum = int(runTimeInput.value) + minuteRange.value\n",
    "    clear_output(wait=True)\n",
    "    cnx = mysql.connector.connect(user='root', password=pw, host='127.0.0.1', database='project351')\n",
    "    cursor = cnx.cursor()\n",
    "    query = \"SELECT * FROM NetflixOriginals_SQL WHERE RUNTIME >=\" + str(minimum) + \" AND RUNTIME <= \" + str(maximum) + \";\"\n",
    "    cursor.execute(query)\n",
    "    i=1\n",
    "    for name in cursor:\n",
    "        print(\"Result \"+ str(i)+ \": \" + name[1] + \", a \" + name[2] + \" that was released on \" + name[3] + \". Offered in \" + name[6] + \", this \" + str(name[4]) + \" minute movie recieved an IMDB rating of \" + str(name[5]) + \".\\n\\n\")\n",
    "        i+=1\n",
    "    cursor.close()\n",
    "    cnx.close()\n",
    "    #name[0] = id, name[1] = title, name[2] = Genre, name[3] = release date, name[4] = runtime, name[5] = IMDB score\n",
    "    #name[6] = language\n",
    "\n",
    "runTimeInput.on_submit(browseByRuntime)"
   ]
  },
  {
   "cell_type": "code",
   "execution_count": 7,
   "metadata": {},
   "outputs": [
    {
     "data": {
      "application/vnd.jupyter.widget-view+json": {
       "model_id": "e6ee47274721477aa4c6cc1e73105999",
       "version_major": 2,
       "version_minor": 0
      },
      "text/plain": [
       "Text(value='', placeholder='Browse By Genre...')"
      ]
     },
     "metadata": {},
     "output_type": "display_data"
    }
   ],
   "source": [
    "genreInput = widgets.Text(\n",
    "    value = '',\n",
    "    placeholder='Browse By Genre...',\n",
    "    description='',\n",
    "    disabled=False\n",
    ")\n",
    "display(genreInput)\n",
    "\n",
    "def browseByGenre(genreInput):\n",
    "    cnx = mysql.connector.connect(user='root', password=pw, host='127.0.0.1', database='project351')\n",
    "    cursor = cnx.cursor()\n",
    "    query = \"SELECT * FROM NetflixOriginals_SQL WHERE Genre LIKE '%\" + str(genreInput.value) + \"%' ;\"\n",
    "    cursor.execute(query)\n",
    "    i=1\n",
    "    for name in cursor:\n",
    "        print(\"Result \"+ str(i)+ \": \" + name[1] + \", a \" + name[2] + \" that was released on \" + name[3] + \". Offered in \" + name[6] + \", this \" + str(name[4]) + \" minute movie recieved an IMDB rating of \" + str(name[5]) + \".\\n\\n\")\n",
    "        i+=1\n",
    "    cursor.close()\n",
    "    cnx.close()\n",
    "    #name[0] = id, name[1] = title, name[2] = Genre, name[3] = release date, name[4] = runtime, name[5] = IMDB score\n",
    "    #name[6] = language\n",
    "\n",
    "genreInput.on_submit(browseByGenre)"
   ]
  },
  {
   "cell_type": "code",
   "execution_count": 8,
   "metadata": {},
   "outputs": [
    {
     "data": {
      "application/vnd.jupyter.widget-view+json": {
       "model_id": "451670ffc6d84955ab4ed3dc0ebc2d51",
       "version_major": 2,
       "version_minor": 0
      },
      "text/plain": [
       "Text(value='', placeholder='Browse By Language...')"
      ]
     },
     "metadata": {},
     "output_type": "display_data"
    }
   ],
   "source": [
    "langInput = widgets.Text(\n",
    "    value = '',\n",
    "    placeholder='Browse By Language...',\n",
    "    description='',\n",
    "    disabled=False\n",
    ")\n",
    "display(langInput)\n",
    "\n",
    "def browseByLang(langInput):\n",
    "    cnx = mysql.connector.connect(user='root', password=pw, host='127.0.0.1', database='project351')\n",
    "    cursor = cnx.cursor()\n",
    "    query = \"SELECT * FROM NetflixOriginals_SQL WHERE Language LIKE '%\" + str(langInput.value) + \"%' ;\"\n",
    "    cursor.execute(query)\n",
    "    i=1\n",
    "    for name in cursor:\n",
    "        print(\"Result \"+ str(i)+ \": \" + name[1] + \", a \" + name[2] + \" that was released on \" + name[3] + \". Offered in \" + name[6] + \", this \" + str(name[4]) + \" minute movie recieved an IMDB rating of \" + str(name[5]) + \".\\n\\n\")\n",
    "        i+=1\n",
    "    cursor.close()\n",
    "    cnx.close()\n",
    "    #name[0] = id, name[1] = title, name[2] = Genre, name[3] = release date, name[4] = runtime, name[5] = IMDB score\n",
    "    #name[6] = language\n",
    "\n",
    "langInput.on_submit(browseByLang)"
   ]
  },
  {
   "cell_type": "markdown",
   "metadata": {},
   "source": [
    "# Explore the Data"
   ]
  },
  {
   "cell_type": "code",
   "execution_count": 9,
   "metadata": {},
   "outputs": [
    {
     "data": {
      "application/vnd.jupyter.widget-view+json": {
       "model_id": "04c498f609be4770bf24d12a91bbad9d",
       "version_major": 2,
       "version_minor": 0
      },
      "text/plain": [
       "Select(description='Common Languages:', options=('English', 'Spanish', 'Mandarin', 'Italian', 'Japanese', 'Kor…"
      ]
     },
     "metadata": {},
     "output_type": "display_data"
    },
    {
     "data": {
      "application/vnd.jupyter.widget-view+json": {
       "model_id": "43cf606545204f5e8b82fceaaad06df4",
       "version_major": 2,
       "version_minor": 0
      },
      "text/plain": [
       "Button(description='Search', icon='check', style=ButtonStyle(), tooltip='Click me')"
      ]
     },
     "metadata": {},
     "output_type": "display_data"
    },
    {
     "name": "stdout",
     "output_type": "stream",
     "text": [
      "\n",
      "\n",
      "\n"
     ]
    },
    {
     "data": {
      "application/vnd.jupyter.widget-view+json": {
       "model_id": "e2b7df5cf1444eb2a2b686a5dfa8b0e2",
       "version_major": 2,
       "version_minor": 0
      },
      "text/plain": [
       "Text(value='', placeholder='Search for another...')"
      ]
     },
     "metadata": {},
     "output_type": "display_data"
    },
    {
     "name": "stdout",
     "output_type": "stream",
     "text": [
      "\n",
      "\n",
      "\n"
     ]
    }
   ],
   "source": [
    "language = widgets.Select(\n",
    "    options=['English', 'Spanish', 'Mandarin', 'Italian', 'Japanese', 'Korean', 'French'],\n",
    "    value='English',\n",
    "    style={'description_width': 'initial'},\n",
    "    # rows=10,\n",
    "    description='Common Languages:',\n",
    "    disabled=False\n",
    ")\n",
    "display (language)\n",
    "\n",
    "button = widgets.Button(\n",
    "    description='Search',\n",
    "    disabled=False,\n",
    "    button_style='', # 'success', 'info', 'warning', 'danger' or ''\n",
    "    tooltip='Click me',\n",
    "    icon='check'\n",
    ")\n",
    "display(button)\n",
    "\n",
    "print(\"\\n\\n\")\n",
    "\n",
    "otherLangInput = widgets.Text(\n",
    "    value = '',\n",
    "    placeholder='Search for another...',\n",
    "    description='',\n",
    "    disabled=False\n",
    ")\n",
    "display(otherLangInput)\n",
    "\n",
    "print(\"\\n\\n\")\n",
    "\n",
    "def languageStats1(b):\n",
    "    cnx = mysql.connector.connect(user='root', password=pw, host='127.0.0.1', database='project351')\n",
    "    cursor = cnx.cursor()\n",
    "    query = \"SELECT count(*) FROM NetflixOriginals_SQL WHERE Language LIKE '%\" + str(language.value) + \"%' ;\"\n",
    "    cursor.execute(query)\n",
    "    for name in cursor:\n",
    "        print(str(language.value) + \" is a language option for \" + str(name[0]) + \" films.\")\n",
    "    cursor.close()\n",
    "    cnx.close()\n",
    "    \n",
    "def languageStats2(b):\n",
    "    cnx = mysql.connector.connect(user='root', password=pw, host='127.0.0.1', database='project351')\n",
    "    cursor = cnx.cursor()\n",
    "    query = \"SELECT count(*) FROM NetflixOriginals_SQL WHERE Language LIKE '%\" + str(otherLangInput.value) + \"%' ;\"\n",
    "    cursor.execute(query)\n",
    "    for name in cursor:\n",
    "        print(str(otherLangInput.value) + \" is a language option for \" + str(name[0]) + \" films.\")\n",
    "    cursor.close()\n",
    "    cnx.close()\n",
    "    \n",
    "button.on_click(languageStats1)\n",
    "otherLangInput.on_submit(languageStats2)"
   ]
  },
  {
   "cell_type": "code",
   "execution_count": 10,
   "metadata": {},
   "outputs": [
    {
     "data": {
      "application/vnd.jupyter.widget-view+json": {
       "model_id": "95b0194c51a34ba6af46f1691ac1a7de",
       "version_major": 2,
       "version_minor": 0
      },
      "text/plain": [
       "RadioButtons(options=(('View Genre Distribution', 0), ('View Language Distribution', 1)), value=0)"
      ]
     },
     "metadata": {},
     "output_type": "display_data"
    },
    {
     "data": {
      "application/vnd.jupyter.widget-view+json": {
       "model_id": "3b76926429e449398c201a11d3a253cf",
       "version_major": 2,
       "version_minor": 0
      },
      "text/plain": [
       "Button(description='Search', icon='check', style=ButtonStyle(), tooltip='Click me')"
      ]
     },
     "metadata": {},
     "output_type": "display_data"
    }
   ],
   "source": [
    "sortType = widgets.RadioButtons(\n",
    "    options=[('View Genre Distribution', 0), ('View Language Distribution', 1)],\n",
    "#    value='pineapple', # Defaults to 'pineapple'\n",
    "#    layout={'width': 'max-content'}, # If the items' names are long\n",
    "    description='',\n",
    "    disabled=False\n",
    ")\n",
    "display(sortType)\n",
    "\n",
    "button = widgets.Button(\n",
    "    description='Search',\n",
    "    disabled=False,\n",
    "    button_style='', # 'success', 'info', 'warning', 'danger' or ''\n",
    "    tooltip='Click me',\n",
    "    icon='check'\n",
    ")\n",
    "display(button)\n",
    "\n",
    "def browseTop10(b):\n",
    "    if sortType.value == 0:\n",
    "        df = pd.DataFrame(columns = ['Genre', 'Count'])\n",
    "        cnx = mysql.connector.connect(user='root', password=pw, host='127.0.0.1', database='project351')\n",
    "        cursor = cnx.cursor()\n",
    "        query = \"SELECT Genre, Count(*) FROM Netflix GROUP BY Genre ORDER BY Count(*) DESC LIMIT 10;\"\n",
    "        cursor.execute(query)\n",
    "        i=1\n",
    "        for name in cursor:\n",
    "            df = df.append([{'Genre': name[0], 'Count': int(name[1])}], ignore_index=True)\n",
    "        cursor.close()\n",
    "        cnx.close()\n",
    "        plot = sns.barplot(x = df[\"Genre\"], y = df[\"Count\"])\n",
    "        plot.set_xticklabels(plot.get_xticklabels(), rotation=40, ha=\"right\")\n",
    "        display(plot)\n",
    "    if sortType.value == 1:\n",
    "        df = pd.DataFrame(columns = ['Genre', 'Count'])\n",
    "        cnx = mysql.connector.connect(user='root', password=pw, host='127.0.0.1', database='project351')\n",
    "        cursor = cnx.cursor()\n",
    "        query = \"SELECT Language, COUNT(*) From Netflix GROUP BY Language ORDER BY COUNT(*) DESC LIMIT 10;\"\n",
    "        cursor.execute(query)\n",
    "        i=1\n",
    "        for name in cursor:\n",
    "            df = df.append([{'Language': name[0], 'Count': int(name[1])}], ignore_index=True)\n",
    "        cursor.close()\n",
    "        cnx.close()\n",
    "        plot = sns.barplot(x = df[\"Language\"], y = df[\"Count\"])\n",
    "        plot.set_xticklabels(plot.get_xticklabels(), rotation=40, ha=\"right\")\n",
    "        display(plot)\n",
    "\n",
    "button.on_click(browseTop10)"
   ]
  },
  {
   "cell_type": "code",
   "execution_count": 11,
   "metadata": {},
   "outputs": [
    {
     "data": {
      "application/vnd.jupyter.widget-view+json": {
       "model_id": "280dab973f1541fb9dd9fc858036ec81",
       "version_major": 2,
       "version_minor": 0
      },
      "text/plain": [
       "DatePicker(value=None, description='Find number of movies released since:', layout=Layout(width='50%'), style=…"
      ]
     },
     "metadata": {},
     "output_type": "display_data"
    },
    {
     "data": {
      "application/vnd.jupyter.widget-view+json": {
       "model_id": "14667c3fc92c4c27b959486922b0e287",
       "version_major": 2,
       "version_minor": 0
      },
      "text/plain": [
       "Button(description='Search', icon='check', style=ButtonStyle(), tooltip='Click me')"
      ]
     },
     "metadata": {},
     "output_type": "display_data"
    }
   ],
   "source": [
    "date = widgets.DatePicker(\n",
    "    description='Find number of movies released since:',\n",
    "    style={'description_width': 'initial'},\n",
    "    disabled=False,\n",
    "    layout=widgets.Layout(width='50%')\n",
    ")\n",
    "display(date)\n",
    "\n",
    "button = widgets.Button(\n",
    "    description='Search',\n",
    "    disabled=False,\n",
    "    button_style='', # 'success', 'info', 'warning', 'danger' or ''\n",
    "    tooltip='Click me',\n",
    "    icon='check'\n",
    ")\n",
    "display(button)\n",
    "\n",
    "def browseByDate(b):\n",
    "    cnx = mysql.connector.connect(user='root', password=pw, host='127.0.0.1', database='project351')\n",
    "    cursor = cnx.cursor()\n",
    "    query = \"SELECT COUNT(*) FROM Netflix WHERE Date >= '\" + str(date.value) + \"';\"\n",
    "    cursor.execute(query)\n",
    "    i=1\n",
    "    for name in cursor:\n",
    "        print(\"There have been \" + str(name[0]) + \" movies released since \" + str(date.value) + \".\")\n",
    "    cursor.close()\n",
    "    cnx.close()\n",
    "\n",
    "button.on_click(browseByDate)"
   ]
  },
  {
   "cell_type": "code",
   "execution_count": 12,
   "metadata": {},
   "outputs": [
    {
     "data": {
      "application/vnd.jupyter.widget-view+json": {
       "model_id": "0396679a21cf42bea306853b187e50ac",
       "version_major": 2,
       "version_minor": 0
      },
      "text/plain": [
       "IntRangeSlider(value=(10, 50), continuous_update=False, description='Number of Movies with Runtimes between (m…"
      ]
     },
     "metadata": {},
     "output_type": "display_data"
    },
    {
     "data": {
      "application/vnd.jupyter.widget-view+json": {
       "model_id": "8be00f451e2145b0a16851f457f45ec7",
       "version_major": 2,
       "version_minor": 0
      },
      "text/plain": [
       "Button(description='Search', icon='check', style=ButtonStyle(), tooltip='Click me')"
      ]
     },
     "metadata": {},
     "output_type": "display_data"
    }
   ],
   "source": [
    "#within runtime\n",
    "runtime = widgets.IntRangeSlider(\n",
    "    value=[10, 50],\n",
    "    min=0,\n",
    "    max=210,\n",
    "    step=1,\n",
    "    description='Number of Movies with Runtimes between (minutes):',\n",
    "    style={'description_width': 'initial'},\n",
    "    disabled=False,\n",
    "    continuous_update=False,\n",
    "    orientation='horizontal',\n",
    "    readout=True,\n",
    "    readout_format='d',\n",
    "    layout=widgets.Layout(width='65%')\n",
    ")\n",
    "display(runtime)\n",
    "\n",
    "button = widgets.Button(\n",
    "    description='Search',\n",
    "    disabled=False,\n",
    "    button_style='', # 'success', 'info', 'warning', 'danger' or ''\n",
    "    tooltip='Click me',\n",
    "    icon='check'\n",
    ")\n",
    "display(button)\n",
    "\n",
    "def browseByRuntime2(b):\n",
    "    minimum = int(runtime.value[0])\n",
    "    maximum = int(runtime.value[1])\n",
    "    cnx = mysql.connector.connect(user='root', password=pw, host='127.0.0.1', database='project351')\n",
    "    cursor = cnx.cursor()\n",
    "    query = \"SELECT COUNT(*) FROM Netflix WHERE RUNTIME >=\" + str(minimum) + \" AND RUNTIME <= \" + str(maximum) + \";\"\n",
    "    cursor.execute(query)\n",
    "    for name in cursor:\n",
    "        print(\"There are \" + str(name[0]) + \" films between \" + str(minimum) + \" and \" + str(maximum) + \" minutes.\")\n",
    "    cursor.close()\n",
    "    cnx.close()\n",
    "    #name[0] = id, name[1] = title, name[2] = Genre, name[3] = release date, name[4] = runtime, name[5] = IMDB score\n",
    "    #name[6] = language\n",
    "\n",
    "button.on_click(browseByRuntime2)\n"
   ]
  },
  {
   "cell_type": "code",
   "execution_count": 13,
   "metadata": {},
   "outputs": [
    {
     "data": {
      "application/vnd.jupyter.widget-view+json": {
       "model_id": "26bbc12f37b0491f956cfea12ccab628",
       "version_major": 2,
       "version_minor": 0
      },
      "text/plain": [
       "FloatRangeSlider(value=(0.0, 10.0), continuous_update=False, description='Movies within rating range:', layout…"
      ]
     },
     "metadata": {},
     "output_type": "display_data"
    },
    {
     "data": {
      "application/vnd.jupyter.widget-view+json": {
       "model_id": "9f803ab98fcd4c02b527e4d5c3c38058",
       "version_major": 2,
       "version_minor": 0
      },
      "text/plain": [
       "Button(description='Search', icon='check', style=ButtonStyle(), tooltip='Click me')"
      ]
     },
     "metadata": {},
     "output_type": "display_data"
    }
   ],
   "source": [
    "#imdb score\n",
    "scoreRange = widgets.FloatRangeSlider(\n",
    "    value=[0, 50],\n",
    "    min=0,\n",
    "    max=10,\n",
    "    step=0.1,\n",
    "    description='Movies within rating range:',\n",
    "    style={'description_width': 'initial'},\n",
    "    disabled=False,\n",
    "    continuous_update=False,\n",
    "    orientation='horizontal',\n",
    "    readout=True,\n",
    "    readout_format='.1f',\n",
    "    layout=widgets.Layout(width='50%')\n",
    ")\n",
    "display(scoreRange)\n",
    "\n",
    "button = widgets.Button(\n",
    "    description='Search',\n",
    "    disabled=False,\n",
    "    button_style='', # 'success', 'info', 'warning', 'danger' or ''\n",
    "    tooltip='Click me',\n",
    "    icon='check'\n",
    ")\n",
    "display(button)\n",
    "\n",
    "\n",
    "def browseScoreRange(b):\n",
    "    minimum = float(scoreRange.value[0])\n",
    "    maximum = float(scoreRange.value[1])\n",
    "    cnx = mysql.connector.connect(user='root', password=pw, host='127.0.0.1', database='project351')\n",
    "    cursor = cnx.cursor()\n",
    "    query = \"SELECT COUNT(*) FROM Netflix WHERE IMDB_Score >=\" + str(minimum) + \" AND IMDB_Score <= \" + str(maximum) + \";\"\n",
    "    cursor.execute(query)\n",
    "    for name in cursor:\n",
    "        print(\"There are \" + str(name[0]) + \" films with an IMDB Score between \" + str(minimum) + \" and \" + str(maximum) + \".\")\n",
    "    cursor.close()\n",
    "    cnx.close()\n",
    "    \n",
    "    \n",
    "button.on_click(browseScoreRange)\n"
   ]
  }
 ],
 "metadata": {
  "kernelspec": {
   "display_name": "Python 3",
   "language": "python",
   "name": "python3"
  },
  "language_info": {
   "codemirror_mode": {
    "name": "ipython",
    "version": 3
   },
   "file_extension": ".py",
   "mimetype": "text/x-python",
   "name": "python",
   "nbconvert_exporter": "python",
   "pygments_lexer": "ipython3",
   "version": "3.8.5"
  }
 },
 "nbformat": 4,
 "nbformat_minor": 4
}
